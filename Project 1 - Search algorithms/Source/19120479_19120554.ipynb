{
  "cells": [
    {
      "cell_type": "markdown",
      "metadata": {
        "id": "Fi9BxHocbeQX"
      },
      "source": [
        "##  Import"
      ]
    },
    {
      "cell_type": "code",
      "execution_count": 1,
      "metadata": {
        "id": "YbO4E7PTforI"
      },
      "outputs": [],
      "source": [
        "import os\n",
        "import matplotlib.pyplot as plt\n",
        "import math\n",
        "import numpy as np"
      ]
    },
    {
      "cell_type": "markdown",
      "metadata": {},
      "source": [
        "## Hàm bổ trợ"
      ]
    },
    {
      "cell_type": "code",
      "execution_count": 2,
      "metadata": {
        "id": "u5ZHJ1oq8Ucm"
      },
      "outputs": [],
      "source": [
        "def visualize_maze(matrix, bonus, start, end, route=None, visited=None, fig_size=(6.4, 4.8)):\n",
        "    \"\"\"\n",
        "    Args:\n",
        "      1. matrix: The matrix read from the input file,\n",
        "      2. bonus: The array of bonus points,\n",
        "      3. start, end: The starting and ending points,\n",
        "      4. route: The route from the starting point to the ending one, defined by an array of (x, y), e.g. route = [(1, 2), (1, 3), (1, 4)]\n",
        "    \"\"\"\n",
        "    #1. Define walls and array of direction based on the route\n",
        "    walls=[(i,j) for i in range(len(matrix)) for j in range(len(matrix[0])) if matrix[i][j]=='x']\n",
        "\n",
        "    if route:\n",
        "        direction=[]\n",
        "        for i in range(1,len(route)):\n",
        "            if route[i][0]-route[i-1][0]>0:\n",
        "                direction.append('v') #^\n",
        "            elif route[i][0]-route[i-1][0]<0:\n",
        "                direction.append('^') #v        \n",
        "            elif route[i][1]-route[i-1][1]>0:\n",
        "                direction.append('>')\n",
        "            else:\n",
        "                direction.append('<')\n",
        "\n",
        "        direction.pop(0)\n",
        "\n",
        "    #2. Drawing the map\n",
        "    ax=plt.figure(dpi=100, figsize=fig_size).add_subplot(111)\n",
        "\n",
        "    for i in ['top','bottom','right','left']:\n",
        "        ax.spines[i].set_visible(False)\n",
        "\n",
        "    plt.scatter([i[1] for i in walls],[-i[0] for i in walls],\n",
        "                marker='X',s=100,color='black')\n",
        "    \n",
        "    plt.scatter([i[1] for i in bonus],[-i[0] for i in bonus],\n",
        "                marker='P',s=100,color='green')\n",
        "\n",
        "    plt.scatter(start[1],-start[0],marker='*',\n",
        "                s=100,color='gold')\n",
        "    \n",
        "    if visited:\n",
        "        plt.scatter([i[1] for i in visited],[-i[0] for i in visited],\n",
        "                    marker='.',s=100,color='blue', alpha= 0.1)\n",
        "\n",
        "    if route:\n",
        "        for i in range(len(route)-2):\n",
        "            plt.scatter(route[i+1][1],-route[i+1][0],\n",
        "                        marker=direction[i],color='blue')\n",
        "\n",
        "    plt.text(end[1],-end[0],'EXIT',color='red',\n",
        "         horizontalalignment='center',\n",
        "         verticalalignment='center')\n",
        "    plt.xticks([])\n",
        "    plt.yticks([])\n",
        "    plt.show()\n",
        "\n",
        "    print(f'Starting point (x, y) = {start[0], start[1]}')\n",
        "    print(f'Ending point (x, y) = {end[0], end[1]}')\n",
        "    \n",
        "    for _, point in enumerate(bonus):\n",
        "        print(f'Bonus point at position (x, y) = {point[0], point[1]} with point {point[2]}')"
      ]
    },
    {
      "cell_type": "code",
      "execution_count": 3,
      "metadata": {
        "id": "yiy6K_hAgcF_"
      },
      "outputs": [],
      "source": [
        "def read_file(file_name: str = 'maze.txt'):\n",
        "  f=open(file_name,'r')\n",
        "  n_bonus_points = int(next(f)[:-1])\n",
        "  bonus_points = []\n",
        "  for i in range(n_bonus_points):\n",
        "    x, y, reward = map(int, next(f)[:-1].split(' '))\n",
        "    bonus_points.append((x, y, reward))\n",
        "\n",
        "  text=f.read()\n",
        "  matrix=[list(i) for i in text.splitlines()]\n",
        "  f.close()\n",
        "\n",
        "  return bonus_points, matrix\n",
        "  "
      ]
    },
    {
      "cell_type": "code",
      "execution_count": 4,
      "metadata": {},
      "outputs": [],
      "source": [
        "def custom_sort(lst, bonus_points):\n",
        "    '''lst: list of lists'''\n",
        "    # first, sort by f \n",
        "    lst.sort(key = lambda item: item[1])\n",
        "    # second, prioritise bonus points\n",
        "    i = 0\n",
        "\n",
        "    while i < len(lst):\n",
        "        istart = i\n",
        "        iend = -1\n",
        "        for j in range(i+1, len(lst)):\n",
        "            if lst[j][-1] != lst[i][-1]:\n",
        "                iend = j\n",
        "                break\n",
        "        \n",
        "        if istart < iend:\n",
        "            itmp = istart\n",
        "            for k in range(istart, iend):\n",
        "                if lst[k][0] in bonus_points:\n",
        "                    lst[itmp], lst[k] = lst[k], lst[itmp]\n",
        "                    itmp += 1\n",
        "            i = iend\n",
        "        else:\n",
        "            i += 1"
      ]
    },
    {
      "cell_type": "markdown",
      "metadata": {},
      "source": [
        "## CLASS"
      ]
    },
    {
      "cell_type": "code",
      "execution_count": 5,
      "metadata": {
        "id": "AGLzTb-1cMyN"
      },
      "outputs": [],
      "source": [
        "class Node:\n",
        "    def __init__(self, x: int, y: int, bonus=0):\n",
        "        self.x = x \n",
        "        self.y = y\n",
        "        self.bonus = bonus # bonus point (negative)\n",
        "        self.next = [] # save adjacency nodes\n",
        "        self.pos = -1 # ordinal number (positive)\n",
        "        self.wall = False # check if the node is a wall 'x'\n",
        "\n",
        "    def __repr__(self):\n",
        "        neighbors = [(item.x, item.y) for item in self.next]\n",
        "        return f'({self.x},{self.y}) -> {neighbors}'\n",
        "\n",
        "class Maze:\n",
        "    def __init__(self, matrix, bonus_points= []):\n",
        "        self.height = len(matrix)\n",
        "        self.width = len(matrix[0])\n",
        "        self.V = 0 # no. of non-wall nodes\n",
        "        self.graph = [] # adjacency list\n",
        "        self.bonuses = [] # list of bonus nodes\n",
        "\n",
        "        # make each item in the matrix be a node itself \n",
        "        graph = []\n",
        "        for i in range(self.height):\n",
        "            for j in range(self.width):\n",
        "                if matrix[i][j] != 'x': # not wall\n",
        "                    node = Node(i,j)\n",
        "                    self.V += 1\n",
        "\n",
        "                    if matrix[i][j] == '+':\n",
        "                        node.bonus = [item[-1] for item in bonus_points if (item[0], item[1]) == (i, j)][0] # bonus line structure: <x y neg_score>\n",
        "                        self.bonuses.append(node)\n",
        "                    elif matrix[i][j] in ['S', 's', '*']: #detect start point\n",
        "                        self.start = node \n",
        "                    elif i in [0,self.height-1] or j in [0,self.width-1]: #detect end point\n",
        "                        self.end = node\n",
        "                else: # wall\n",
        "                    node = Node(-1,-1)\n",
        "                    node.wall = True\n",
        "                node.pos = i * self.width + j\n",
        "                graph.append(node) \n",
        "        # sort bonus points based on their scores (ascending)\n",
        "        self.bonuses.sort(key= lambda x: x.bonus)\n",
        "              \n",
        "        # create adj list\n",
        "        for item in graph:\n",
        "            if item.wall == False:\n",
        "                x,y = item.x, item.y\n",
        "                if x + 1 < self.height and matrix[x+1][y] != 'x':\n",
        "                    item.next.append(graph[(x+1) * self.width + y])\n",
        "                if matrix[x-1][y] != 'x':\n",
        "                    item.next.append(graph[(x-1) * self.width + y])\n",
        "                if y + 1 < self.width and matrix[x][y+1] != 'x': \n",
        "                    item.next.append(graph[x * self.width + y+1])\n",
        "                if matrix[x][y-1] != 'x':\n",
        "                    item.next.append(graph[x * self.width + y-1])\n",
        "            self.graph.append(item)\n",
        "    \n",
        "    def print_graph(self):\n",
        "        for node in self.graph:\n",
        "            print(node)"
      ]
    },
    {
      "cell_type": "markdown",
      "metadata": {},
      "source": [
        "# <font color=red>A. BẢN ĐỒ KHÔNG CÓ BONUS"
      ]
    },
    {
      "cell_type": "markdown",
      "metadata": {},
      "source": [
        "## I. NHÓM THUẬT TOÁN TÌM KIẾM MÙ"
      ]
    },
    {
      "cell_type": "markdown",
      "metadata": {},
      "source": [
        "### 1. BFS"
      ]
    },
    {
      "cell_type": "code",
      "execution_count": 6,
      "metadata": {},
      "outputs": [],
      "source": [
        "def bfs(maze, start: Node, end: Node):\n",
        "    queue = [start]\n",
        "    vis = [start]\n",
        "    node_init = Node(-2,-2)\n",
        "    par = [node_init] * (maze.height * maze.width)\n",
        "\n",
        "    while queue:\n",
        "        v = queue.pop(0)\n",
        "\n",
        "        if v == end:\n",
        "            break\n",
        "        for adj_node in v.next:\n",
        "            if adj_node not in vis:\n",
        "                queue.append(adj_node)\n",
        "                vis.append(adj_node)\n",
        "                par[adj_node.pos] = v \n",
        "\n",
        "    # construct a path\n",
        "    path = [end]\n",
        "    cur = end\n",
        "    total_cost = 0\n",
        "    \n",
        "    while path[-1].pos != start.pos:\n",
        "        if cur in maze.bonuses:\n",
        "            total_cost += cur.bonus\n",
        "        total_cost += 1\n",
        "        parent = par[cur.pos]\n",
        "        path.append(parent)\n",
        "        cur = parent\n",
        "        \n",
        "    path.reverse()\n",
        "    path = [(item.x, item.y) for item in path]\n",
        "    vis = [(item.x, item.y) for item in vis]\n",
        "    return path, vis, total_cost"
      ]
    },
    {
      "cell_type": "markdown",
      "metadata": {},
      "source": [
        "### 2. DFS"
      ]
    },
    {
      "cell_type": "code",
      "execution_count": 7,
      "metadata": {},
      "outputs": [],
      "source": [
        "def dfs(maze: Maze, start: Node, end: Node):\n",
        "    stack = [start]\n",
        "    vis = [start]\n",
        "    node_init = Node(-2,-2)\n",
        "    par = [node_init] * (maze.height * maze.width)\n",
        "\n",
        "    while stack:\n",
        "        v = stack.pop(0)\n",
        "\n",
        "        if v.x == end.x and v.y == end.y:\n",
        "            break\n",
        "        for adj_node in v.next:\n",
        "            i = 0\n",
        "\n",
        "            if adj_node not in vis:\n",
        "                stack.insert(i, adj_node)\n",
        "                vis.append(adj_node)\n",
        "                par[adj_node.pos] = v \n",
        "                i += 1\n",
        "    \n",
        "    # construct a path\n",
        "    path = [end]\n",
        "    cur = end\n",
        "    total_cost = 0\n",
        "    \n",
        "    while path[-1].pos != start.pos:\n",
        "        \n",
        "        if cur in maze.bonuses:\n",
        "            total_cost += cur.bonus\n",
        "        total_cost += 1\n",
        "        parent = par[cur.pos]\n",
        "        path.append(parent)\n",
        "        cur = parent\n",
        "        \n",
        "    path.reverse()\n",
        "    path = [(item.x, item.y) for item in path]\n",
        "    vis = [(item.x, item.y) for item in vis]\n",
        "    return path, vis, total_cost        "
      ]
    },
    {
      "cell_type": "markdown",
      "metadata": {},
      "source": [
        "## II. NHÓM THUẬT TOÁN TÌM KIẾM CÓ THÔNG TIN"
      ]
    },
    {
      "cell_type": "markdown",
      "metadata": {},
      "source": [
        "### 1. Heuristic"
      ]
    },
    {
      "cell_type": "code",
      "execution_count": 8,
      "metadata": {},
      "outputs": [],
      "source": [
        "def heuristic_euclid(maze: Maze, end: Node):\n",
        "    heuristic = [float(\"inf\")] * (maze.height*maze.width)\n",
        "    for node in maze.graph:\n",
        "        if not node.wall:\n",
        "            heuristic[node.pos] = math.sqrt((node.x - end.x)**2 + (node.y - end.y)**2)\n",
        "    return heuristic # list\n",
        "\n",
        "def heuristic_manhattan(maze: Maze, end: Node):\n",
        "    heuristic = [float(\"inf\")] * (maze.height*maze.width)\n",
        "    for node in maze.graph:\n",
        "        if not node.wall:\n",
        "            heuristic[node.pos] = abs(node.x - end.x) + abs(node.y - end.y)\n",
        "    return heuristic   "
      ]
    },
    {
      "cell_type": "markdown",
      "metadata": {},
      "source": [
        "### 2. A*"
      ]
    },
    {
      "cell_type": "code",
      "execution_count": 9,
      "metadata": {},
      "outputs": [],
      "source": [
        "def a_star(maze: Maze, start: Node, end: Node, h):\n",
        "    vis = [start]\n",
        "    node_init = Node(float(\"inf\"), float(\"inf\"))\n",
        "    par = [node_init] * (maze.height * maze.width)\n",
        "    # g(n): weight from start node to node 'n' \n",
        "    g = [float(\"inf\")] * (maze.height * maze.width)\n",
        "    g[start.pos] = 0\n",
        "    # f(n) = h(n) + g(n): evaluated function\n",
        "    f = [float(\"inf\")] * (maze.height * maze.width)\n",
        "    f[start.pos] = h[start.pos]\n",
        "    # open list (always sort in f-descending order)\n",
        "    queue = [(start, f[start.pos])]\n",
        "\n",
        "    while queue:\n",
        "        queue.sort(key = lambda item: item[1]) # sort by f, f = h + g\n",
        "        cur = queue.pop(0)[0]\n",
        "\n",
        "        if cur.x == end.x and cur.y == end.y:\n",
        "            break\n",
        "        for neighbor in cur.next:\n",
        "            d = 1 # d(cur, neighbor)\n",
        "            if neighbor in vis:\n",
        "                f_new = g[cur.pos] + d + h[neighbor.pos] # recalculate f[neighbor]\n",
        "                if f_new < f[neighbor.pos]: # if a better path with smaller f is found\n",
        "                    g[neighbor.pos] = g[cur.pos] + d\n",
        "                    par[neighbor.pos] = cur\n",
        "            else: # not visited\n",
        "                vis.append(neighbor)\n",
        "                g[neighbor.pos] = g[cur.pos] + d\n",
        "                f[neighbor.pos] = g[neighbor.pos] + h[neighbor.pos]\n",
        "                par[neighbor.pos] = cur\n",
        "                if (neighbor, f[neighbor.pos]) not in queue:\n",
        "                    queue.append((neighbor, f[neighbor.pos]))\n",
        "                    \n",
        "    # reconstruct a path\n",
        "    total_cost = 0\n",
        "    path = [end]\n",
        "    cur = end\n",
        "    # trace back\n",
        "    while path[-1].pos != start.pos:\n",
        "        if cur in maze.bonuses:\n",
        "            total_cost += cur.bonus\n",
        "        total_cost += 1\n",
        "        parent = par[cur.pos]\n",
        "        path.append(parent)\n",
        "        cur = parent\n",
        "        \n",
        "    path.reverse()\n",
        "    path = [(item.x, item.y) for item in path]\n",
        "    vis = [(item.x, item.y) for item in vis]\n",
        "    return path, vis, total_cost"
      ]
    },
    {
      "cell_type": "markdown",
      "metadata": {},
      "source": [
        "### 3. Greedy best first search"
      ]
    },
    {
      "cell_type": "code",
      "execution_count": 10,
      "metadata": {},
      "outputs": [],
      "source": [
        "def gbfs(maze: Maze, start: Node, end: Node, h):\n",
        "    vis = [start]\n",
        "    node_init = Node(float(\"inf\"), float(\"inf\"))\n",
        "    par = [node_init] * (maze.height * maze.width)\n",
        "    # f(n) = h(n)  evaluated function\n",
        "    f = [float(\"inf\")] * (maze.height * maze.width)\n",
        "    f[start.pos] = h[start.pos]\n",
        "    # open list - new added content will be ascending order (sort by height of heuristic)\n",
        "    stack = [(start, f[start.pos])]\n",
        "\n",
        "    while stack:\n",
        "        cur = stack.pop(0)[0]\n",
        "\n",
        "        newNeighbor = []\n",
        "\n",
        "        if cur.x == end.x and cur.y == end.y:\n",
        "            break\n",
        "        for neighbor in cur.next:\n",
        "            d = 1 # d(cur, neighbor)\n",
        "            if neighbor in vis:\n",
        "                f_new = d + h[neighbor.pos] # recalculate f[neighbor]\n",
        "                if f_new < f[neighbor.pos]: # if a better path with smaller f is found\n",
        "                    par[neighbor.pos] = cur\n",
        "            else: # not visited\n",
        "                vis.append(neighbor)\n",
        "                f[neighbor.pos] = h[neighbor.pos]\n",
        "                par[neighbor.pos] = cur\n",
        "                if (neighbor, f[neighbor.pos]) not in stack:\n",
        "                    newNeighbor.append((neighbor, f[neighbor.pos]))\n",
        "\n",
        "        newNeighbor.sort(key = lambda item: item[1])\n",
        "        \n",
        "        i = 0\n",
        "        for neighbor in newNeighbor:\n",
        "            stack.insert(i, neighbor)\n",
        "            i += 1\n",
        "                    \n",
        "    # construct a path\n",
        "    path = [end]\n",
        "    cur = end\n",
        "    total_cost = 0\n",
        "    \n",
        "    while path[-1].pos != start.pos:\n",
        "        \n",
        "        if cur in maze.bonuses:\n",
        "            total_cost += cur.bonus\n",
        "        total_cost += 1\n",
        "        parent = par[cur.pos]\n",
        "        path.append(parent)\n",
        "        cur = parent\n",
        "        \n",
        "    path.reverse()\n",
        "    path = [(item.x, item.y) for item in path]\n",
        "    vis = [(item.x, item.y) for item in vis]\n",
        "    return path, vis, total_cost"
      ]
    },
    {
      "cell_type": "markdown",
      "metadata": {},
      "source": [
        "### **Test các thuật toán với bản đồ không có điểm thưởng**\n",
        "Trong cell dưới đây thầy chỉ cần điều chỉnh những biến sau là đủ:\n",
        "- **Biến `x`**: quy định chỉ số (index) của file cần test\n",
        "    - `x=1` tương ứng `map_no_bonus01.txt`\n",
        "    - `x=2` tương ứng `map_no_bonus02.txt`\n",
        "    - `x=3` tương ứng `map_no_bonus03.txt`\n",
        "    - `x=4` tương ứng `map_no_bonus04.txt`\n",
        "    - `x=5` tương ứng `map_no_bonus05.txt`\n",
        "- **Biến `heuristic`** (dòng 11-14): điều chỉnh heuristic mong muốn của thầy. Mỗi lần chạy chỉ chấp nhận 1 heuristic. Giả sử nếu thầy muốn sử dụng euristic Manhattan thì chỉ để dòng 12 và comment dòng 13,14. \n",
        "    - <u>Lưu ý</u>: heuristic trong trường hợp map không có bonus thì biến `heuristic` chỉ chấp nhận hoặc là `heuristic_euclid`, hoặc là `heuristic_manhattan`; do đó thầy không nên gán thêm dòng `heuristic = manhattan_custom` vì hàm `manhattan_custom` chỉ dùng cho riêng trường hợp map có bonus\n",
        "- **Biến `path`**: đường đi áp dụng thuật toán mong muốn của thầy. Mỗi lần chạy chỉ chấp nhận 1 path. Giả sử nếu thầy muốn chạy bfs thì chỉ để dòng 17 và comment dòng 18,19,20\n",
        "- **Tham số `fig_size = (width, height)` của hàm visualize**: điều chỉnh kích cỡ hình mê cung. Với các mê cung dày đặc, thầy có thể cân nhắc nới rộng fig_size để dễ nhìn hơn. Em có comment 1 số fig_size hay dùng bên cạnh, thầy có thể cân nhắc copy "
      ]
    },
    {
      "cell_type": "code",
      "execution_count": 11,
      "metadata": {},
      "outputs": [
        {
          "data": {
            "image/png": "[encoded data removed]",
            "text/plain": [
              "<Figure size 1000x600 with 1 Axes>"
            ]
          },
          "metadata": {},
          "output_type": "display_data"
        },
        {
          "name": "stdout",
          "output_type": "stream",
          "text": [
            "Starting point (x, y) = (11, 28)\n",
            "Ending point (x, y) = (4, 0)\n",
            "Total cost = 39\n"
          ]
        }
      ],
      "source": [
        "# biến x\n",
        "x = 1\n",
        "#----------------\n",
        "\n",
        "file_path = f'./testcases/map_no_bonus0{x}.txt' \n",
        "bonus_points, matrix = read_file(file_path)\n",
        "maze = Maze(matrix, bonus_points)\n",
        "start = (maze.start.x, maze.start.y)\n",
        "end = (maze.end.x, maze.end.y)\n",
        "\n",
        "# biến heuristic\n",
        "heuristic = heuristic_manhattan(maze, maze.end)\n",
        "# heuristic = heuristic_euclid(maze, maze.end)\n",
        "#----------------\n",
        "\n",
        "# biến path\n",
        "path = bfs(maze, maze.start, maze.end)\n",
        "# path = dfs(maze, maze.start, maze.end)\n",
        "# path = gbfs(maze, maze.start, maze.end, heuristic)\n",
        "# path = a_star(maze, maze.start, maze.end, heuristic)\n",
        "#----------------\n",
        "\n",
        "visualize_maze(matrix, bonus_points, start, end, route= path[0], fig_size=(10,6)) #, (12,15), (10,6)\n",
        "print(f'Total cost = {path[2]}')"
      ]
    },
    {
      "cell_type": "markdown",
      "metadata": {},
      "source": [
        "# <font color=red>B. BẢN ĐỒ CÓ ĐIỂM THƯỞNG"
      ]
    },
    {
      "cell_type": "markdown",
      "metadata": {},
      "source": [
        "## 1. Heuristic bổ sung"
      ]
    },
    {
      "cell_type": "code",
      "execution_count": 12,
      "metadata": {},
      "outputs": [],
      "source": [
        "def dist(node1: Node, node2: Node):\n",
        "    return math.sqrt((node1.x - node2.x)**2 + (node1.y - node2.y)**2)\n",
        "\n",
        "# heuristic for bonus_map only                    \n",
        "def manhattan_custom(maze: Maze, end: Node):\n",
        "    h = [float(\"inf\")] * (maze.height*maze.width)\n",
        "    \n",
        "    for node in maze.graph:\n",
        "        if not node.wall:\n",
        "            for bonus in maze.bonuses:\n",
        "                closest_bonus = [(item, dist(node, item)) for item in maze.bonuses]\n",
        "                closest_bonus.sort(key= lambda tup: tup[1])\n",
        "                closest_bonus = closest_bonus[0][0]\n",
        "                \n",
        "                h_tmp = dist(node, closest_bonus) + closest_bonus.bonus + dist(closest_bonus, maze.end)\n",
        "                expected_len = dist(node, end)\n",
        "                h[node.pos] = min(h_tmp, expected_len)\n",
        "    return h   "
      ]
    },
    {
      "cell_type": "markdown",
      "metadata": {},
      "source": [
        "## 2. A*"
      ]
    },
    {
      "cell_type": "code",
      "execution_count": 13,
      "metadata": {},
      "outputs": [],
      "source": [
        "def a_star_bonus(maze: Maze, start: Node, end: Node, h):\n",
        "    node_init = Node(float(\"inf\"), float(\"inf\"))\n",
        "    # parent list\n",
        "    par = [node_init] * (maze.height * maze.width)\n",
        "    # current node to traverse|\n",
        "    cur = node_init\n",
        "    # g(n): weight from start node to node 'n' \n",
        "    g = [float(\"inf\")] * (maze.height * maze.width)\n",
        "    g[start.pos] = 0\n",
        "    # f(n) = h(n) + g(n): evaluated function\n",
        "    f = [float(\"inf\")] * (maze.height * maze.width)\n",
        "    f[start.pos] = h[start.pos]\n",
        "    # open list (always sort in f-descending order)\n",
        "    queue = [[start, f[start.pos]]]\n",
        "    # close list: save visited nodes\n",
        "    vis = [start]\n",
        "    # find const\n",
        "    bonus_points = [abs(bonus_node.bonus) for bonus_node in maze.bonuses]\n",
        "    # bonus_points.append(1)\n",
        "    const = max(bonus_points) + 1\n",
        "    \n",
        "    while queue and cur != end:\n",
        "        # queue.sort(key = lambda item: item[1]) # sort by f, f = h + g\n",
        "        custom_sort(queue, maze.bonuses)\n",
        "        cur = queue.pop(0)[0]\n",
        "        \n",
        "        for neighbor in cur.next:\n",
        "            d = const + neighbor.bonus # tránh trọng số âm\n",
        "            \n",
        "            if neighbor in vis:\n",
        "                f_new = g[cur.pos] + d + h[neighbor.pos] # recalculate f[neighbor]\n",
        "                if f_new < f[neighbor.pos]: # if a better path with smaller f is found\n",
        "                    g[neighbor.pos] = g[cur.pos] + d\n",
        "                    par[neighbor.pos] = cur\n",
        "\n",
        "            else: # not visited\n",
        "                vis.append(neighbor)\n",
        "                g[neighbor.pos] = g[cur.pos] + d\n",
        "                f[neighbor.pos] = g[neighbor.pos] + h[neighbor.pos]\n",
        "                par[neighbor.pos] = cur\n",
        "                if [neighbor, f[neighbor.pos]] not in queue: \n",
        "                    queue.append([neighbor, f[neighbor.pos]])\n",
        "        \n",
        "    # reconstruct a path\n",
        "    total_cost = 0\n",
        "    path = [end]\n",
        "    cur = end\n",
        "    \n",
        "    while path[-1].pos != start.pos:\n",
        "        if cur in maze.bonuses:\n",
        "            total_cost += cur.bonus\n",
        "        total_cost += 1\n",
        "        parent = par[cur.pos]\n",
        "        path.append(parent)\n",
        "        cur = parent\n",
        "        \n",
        "    path.reverse()\n",
        "    path = [(item.x, item.y) for item in path]\n",
        "    vis = [(item.x, item.y) for item in vis]\n",
        "    return path, vis, total_cost\t\n"
      ]
    },
    {
      "cell_type": "markdown",
      "metadata": {},
      "source": [
        "## 3. Greedy Best First Search"
      ]
    },
    {
      "cell_type": "code",
      "execution_count": 14,
      "metadata": {},
      "outputs": [],
      "source": [
        "def gbfs_bonus(maze: Maze, start: Node, end: Node, h):\n",
        "    node_init = Node(float(\"inf\"), float(\"inf\"))\n",
        "    par = [node_init] * (maze.height * maze.width)\n",
        "    # f(n) = h(n): evaluated function\n",
        "    f = [float(\"inf\")] * (maze.height * maze.width)\n",
        "    f[start.pos] = h[start.pos]\n",
        "    # open list (always sort in f-descending order)\n",
        "    stack = [[start, f[start.pos]]]\n",
        "    # clost list: save visited nodes\n",
        "    vis = [start]\n",
        "    # find const\n",
        "    bonus_points = [abs(bonus_node.bonus) for bonus_node in maze.bonuses]\n",
        "    # bonus_points.append(1)\n",
        "    const = max(bonus_points) + 1\n",
        "    \n",
        "    while stack:\n",
        "        cur = stack.pop(0)[0]\n",
        "        newNeighbor = []\n",
        "        \n",
        "        if (cur.x, cur.y) == (end.x, end.y):\n",
        "            break\n",
        "        \n",
        "        for neighbor in cur.next:\n",
        "            d = const + neighbor.bonus # tránh trọng số âm\n",
        "                    \n",
        "            if neighbor in vis:\n",
        "                f_new = d + h[neighbor.pos] \n",
        "\n",
        "            else: # not visited\n",
        "                vis.append(neighbor)\n",
        "                f[neighbor.pos] = h[neighbor.pos] + d\n",
        "                par[neighbor.pos] = cur\n",
        "                if (neighbor, f[neighbor.pos]) not in stack:\n",
        "                    newNeighbor.append((neighbor, f[neighbor.pos]))\n",
        "\n",
        "        custom_sort(newNeighbor, maze.bonuses)\n",
        "        \n",
        "        i = 0\n",
        "        for neighbor in newNeighbor:\n",
        "            stack.insert(i, neighbor)\n",
        "            i += 1\n",
        "    \n",
        "    # reconstruct a path\n",
        "    total_cost = 0\n",
        "    path = [end]\n",
        "    cur = end\n",
        "    \n",
        "    while path[-1].pos != start.pos:\n",
        "        if cur in maze.bonuses:\n",
        "            total_cost += cur.bonus\n",
        "        total_cost += 1\n",
        "        parent = par[cur.pos]\n",
        "        path.append(parent)\n",
        "        cur = parent\n",
        "        \n",
        "    path.reverse()\n",
        "    path = [(item.x, item.y) for item in path]\n",
        "    vis = [(item.x, item.y) for item in vis]\n",
        "    return path, vis, total_cost"
      ]
    },
    {
      "cell_type": "markdown",
      "metadata": {},
      "source": [
        "### **Test các thuật toán với bản đồ không có điểm thưởng**\n",
        "Trong cell dưới đây thầy chỉ cần điều chỉnh những biến sau là đủ:\n",
        "- **Biến `x`**: quy định chỉ số (index) của file cần test\n",
        "    - `x=1` tương ứng `map_bonus01.txt`\n",
        "    - `x=2` tương ứng `map_bonus02.txt`\n",
        "    - `x=3` tương ứng `map_bonus03.txt`\n",
        "- **Biến `heuristic`** (dòng 11-15): điều chỉnh heuristic mong muốn của thầy. Mỗi lần chạy chỉ chấp nhận 1 heuristic. Giả sử nếu thầy muốn sử dụng euristic Manhattan thì chỉ để dòng 12 và comment dòng 13,14\n",
        "- **Biến `path`** (dòng 17-20): đường đi áp dụng thuật toán mong muốn của thầy. Mỗi lần chạy chỉ chấp nhận 1 path. Giả sử nếu thầy muốn chạy A* thì chỉ để dòng 18 và comment dòng 19\n",
        "- **Tham số `fig_size = (width, height)` của hàm visualize**: điều chỉnh kích cỡ hình mê cung. Với các mê cung dày đặc, thầy có thể cân nhắc nới rộng fig_size để dễ nhìn hơn. Em có comment 1 số fig_size hay dùng bên cạnh, thầy có thể cân nhắc copy "
      ]
    },
    {
      "cell_type": "code",
      "execution_count": 15,
      "metadata": {},
      "outputs": [
        {
          "data": {
            "image/png": "[encoded data removed]",
            "text/plain": [
              "<Figure size 1000x600 with 1 Axes>"
            ]
          },
          "metadata": {},
          "output_type": "display_data"
        },
        {
          "name": "stdout",
          "output_type": "stream",
          "text": [
            "Starting point (x, y) = (5, 5)\n",
            "Ending point (x, y) = (6, 40)\n",
            "Bonus point at position (x, y) = (4, 5) with point -2\n",
            "Bonus point at position (x, y) = (1, 7) with point -4\n",
            "Bonus point at position (x, y) = (9, 34) with point -6\n",
            "Bonus point at position (x, y) = (2, 2) with point -6\n",
            "Bonus point at position (x, y) = (16, 28) with point -3\n",
            "Bonus point at position (x, y) = (17, 16) with point -2\n",
            "Bonus point at position (x, y) = (6, 31) with point -5\n",
            "Bonus point at position (x, y) = (5, 22) with point -30\n",
            "Bonus point at position (x, y) = (3, 39) with point -25\n",
            "Bonus point at position (x, y) = (1, 30) with point -10\n",
            "Total cost = 37\n"
          ]
        }
      ],
      "source": [
        "# biến x\n",
        "x = 1\n",
        "#------------\n",
        "\n",
        "file_path = f'./testcases/map_bonus0{x}.txt' \n",
        "bonus_points, matrix = read_file(file_path)\n",
        "maze = Maze(matrix, bonus_points)\n",
        "start = (maze.start.x, maze.start.y)\n",
        "end = (maze.end.x, maze.end.y)\n",
        "\n",
        "# biến heuristic\n",
        "# heuristic = heuristic_manhattan(maze, maze.end)\n",
        "heuristic = manhattan_custom(maze, maze.end)\n",
        "# heuristic = heuristic_euclid(maze, maze.end)\n",
        "#------------\n",
        "\n",
        "# biến path\n",
        "# path = a_star_bonus(maze, maze.start, maze.end, heuristic)\n",
        "path = gbfs_bonus(maze, maze.start, maze.end, heuristic)\n",
        "#------------\n",
        "\n",
        "visualize_maze(matrix, bonus_points, start, end, path[0], path[1], fig_size=(10,6)) #, (12,15), (10,6)\n",
        "print(f'Total cost = {path[2]}')"
      ]
    }
  ],
  "metadata": {
    "colab": {
      "collapsed_sections": [],
      "name": "IntroToAI_Demo_DoAn1.ipynb",
      "provenance": [],
      "toc_visible": true
    },
    "interpreter": {
      "hash": "dcacb0086e9a4f4eabd41c33bf4faac5ea0a3337ed3f5eff0680afa930572c04"
    },
    "kernelspec": {
      "display_name": "Python 3.9.6 64-bit",
      "name": "python3"
    },
    "language_info": {
      "codemirror_mode": {
        "name": "ipython",
        "version": 3
      },
      "file_extension": ".py",
      "mimetype": "text/x-python",
      "name": "python",
      "nbconvert_exporter": "python",
      "pygments_lexer": "ipython3",
      "version": "3.9.6"
    }
  },
  "nbformat": 4,
  "nbformat_minor": 0
}
